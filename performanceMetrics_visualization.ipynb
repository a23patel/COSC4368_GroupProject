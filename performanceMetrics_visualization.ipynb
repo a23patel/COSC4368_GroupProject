{
 "cells": [
  {
   "cell_type": "markdown",
   "id": "844c5a67",
   "metadata": {},
   "source": [
    "# <center>ANALYSIS OF PERFORMANCE VARIABLES</center>"
   ]
  },
  {
   "cell_type": "markdown",
   "id": "11981103",
   "metadata": {},
   "source": [
    "<h3>Reading all CSV files related to the experiments</h3>"
   ]
  },
  {
   "cell_type": "code",
   "execution_count": 114,
   "id": "295dc31b",
   "metadata": {},
   "outputs": [],
   "source": [
    "import pandas as pd\n",
    "import plotly.express as px"
   ]
  },
  {
   "cell_type": "code",
   "execution_count": 231,
   "id": "5222c483",
   "metadata": {},
   "outputs": [
    {
     "name": "stdout",
     "output_type": "stream",
     "text": [
      "j = 1\n",
      "j = 2\n",
      "j = 3\n",
      "j = 4\n",
      "j = 5\n",
      "j = 1\n",
      "j = 2\n",
      "j = 3\n",
      "j = 4\n",
      "j = 5\n",
      "j = 1\n",
      "j = 2\n",
      "j = 3\n",
      "j = 4\n",
      "j = 5\n",
      "j = 1\n",
      "j = 2\n",
      "j = 3\n",
      "j = 4\n",
      "j = 5\n",
      "j = 6\n",
      "j = 1\n",
      "j = 2\n",
      "j = 3\n",
      "j = 4\n",
      "j = 5\n",
      "j = 1\n",
      "j = 2\n",
      "j = 3\n",
      "j = 4\n",
      "j = 5\n",
      "j = 6\n",
      "j = 1\n",
      "j = 2\n",
      "j = 3\n",
      "j = 4\n",
      "j = 1\n",
      "j = 2\n",
      "j = 3\n",
      "j = 4\n",
      "j = 5\n",
      "j = 6\n",
      "j = 7\n",
      "j = 1\n",
      "j = 2\n",
      "j = 3\n",
      "j = 4\n",
      "j = 5\n",
      "j = 1\n",
      "j = 2\n",
      "j = 3\n",
      "j = 4\n",
      "j = 5\n",
      "j = 1\n",
      "j = 2\n",
      "j = 3\n",
      "j = 4\n",
      "j = 5\n",
      "j = 1\n",
      "j = 2\n",
      "j = 3\n",
      "j = 4\n",
      "j = 5\n",
      "j = 6\n",
      "j = 1\n",
      "j = 2\n",
      "j = 1\n",
      "j = 2\n",
      "j = 3\n",
      "j = 1\n",
      "j = 2\n",
      "j = 3\n",
      "j = 4\n",
      "j = 5\n",
      "j = 1\n",
      "j = 2\n",
      "j = 3\n",
      "j = 4\n",
      "j = 5\n",
      "j = 1\n",
      "j = 1\n",
      "j = 2\n",
      "j = 1\n",
      "j = 2\n",
      "j = 3\n",
      "j = 4\n",
      "j = 5\n",
      "j = 6\n",
      "j = 7\n",
      "j = 8\n",
      "j = 9\n",
      "j = 10\n",
      "j = 11\n",
      "j = 12\n",
      "j = 13\n",
      "j = 1\n",
      "j = 2\n",
      "j = 3\n",
      "j = 4\n",
      "j = 5\n",
      "j = 6\n",
      "j = 7\n",
      "j = 8\n",
      "j = 9\n",
      "j = 10\n",
      "j = 11\n",
      "j = 12\n",
      "j = 13\n",
      "j = 1\n",
      "j = 2\n",
      "j = 3\n",
      "j = 1\n",
      "j = 2\n",
      "j = 3\n",
      "j = 4\n",
      "j = 5\n",
      "j = 6\n",
      "j = 7\n",
      "j = 1\n",
      "j = 2\n",
      "j = 1\n",
      "j = 1\n",
      "j = 1\n",
      "j = 2\n",
      "j = 1\n",
      "j = 2\n",
      "j = 3\n",
      "j = 4\n",
      "j = 5\n",
      "j = 1\n",
      "j = 2\n",
      "j = 3\n",
      "j = 4\n",
      "j = 5\n",
      "j = 1\n",
      "j = 2\n",
      "j = 3\n",
      "j = 4\n",
      "j = 5\n",
      "j = 6\n",
      "j = 7\n",
      "j = 8\n",
      "j = 9\n",
      "j = 10\n",
      "j = 11\n",
      "j = 1\n",
      "j = 2\n",
      "j = 3\n",
      "j = 4\n",
      "j = 5\n",
      "j = 6\n",
      "j = 7\n",
      "j = 8\n",
      "j = 9\n",
      "j = 1\n",
      "j = 2\n",
      "j = 3\n",
      "j = 4\n",
      "j = 5\n",
      "j = 6\n",
      "j = 7\n",
      "j = 8\n",
      "j = 1\n",
      "j = 2\n",
      "j = 3\n",
      "j = 4\n",
      "j = 5\n",
      "j = 6\n",
      "j = 7\n",
      "j = 8\n",
      "j = 1\n",
      "j = 2\n",
      "j = 3\n",
      "j = 4\n",
      "j = 5\n",
      "j = 6\n",
      "j = 7\n",
      "j = 8\n",
      "j = 9\n",
      "j = 1\n",
      "j = 2\n",
      "j = 3\n",
      "j = 4\n",
      "j = 5\n",
      "j = 6\n",
      "j = 7\n",
      "j = 8\n",
      "j = 9\n",
      "j = 1\n",
      "j = 2\n",
      "j = 3\n",
      "j = 4\n",
      "j = 5\n",
      "j = 6\n",
      "j = 7\n",
      "j = 1\n",
      "j = 2\n",
      "j = 3\n",
      "j = 4\n",
      "j = 5\n",
      "j = 6\n",
      "j = 7\n",
      "j = 1\n",
      "j = 2\n",
      "j = 3\n",
      "j = 4\n",
      "j = 5\n",
      "j = 6\n",
      "j = 7\n",
      "j = 8\n",
      "j = 1\n",
      "j = 2\n",
      "j = 3\n",
      "j = 4\n",
      "j = 5\n",
      "j = 6\n",
      "j = 7\n",
      "j = 8\n",
      "j = 9\n",
      "j = 1\n",
      "j = 2\n",
      "j = 3\n",
      "j = 1\n",
      "j = 2\n",
      "j = 3\n"
     ]
    }
   ],
   "source": [
    "def get_rewards(vdf, tdf):\n",
    "    vdf['Male Rewards'] = vdf['Rewards']\n",
    "    vdf['Female Rewards'] = vdf['Rewards']\n",
    "    m_total = 0\n",
    "    f_total = 0\n",
    "    j = 0\n",
    "    terminal_points = tdf.cumsum()\n",
    "    for i in range(vdf.shape[0]):\n",
    "        if vdf['Agent'][i] == 'F':\n",
    "            f_total += vdf['Rewards'][i]\n",
    "        else:\n",
    "            m_total += vdf['Rewards'][i]\n",
    "        vdf.loc[i, 'Male Rewards'] = m_total\n",
    "        vdf.loc[i, 'Female Rewards'] = f_total\n",
    "        if j < terminal_points.shape[0] and i + 1 == terminal_points.loc[j][0]:\n",
    "            m_total = 0\n",
    "            f_total = 0\n",
    "            j += 1\n",
    "#Initializing\n",
    "cols = ['n', 'Rewards', 'Distance', 'Agent']\n",
    "var_data = [pd.read_csv(filepath_or_buffer='out/visualization.csv', header=None)]\n",
    "terminal_state_data = [pd.read_csv(filepath_or_buffer='out/terminal_states.csv')]\n",
    "var_data[0].columns = cols\n",
    "get_rewards(var_data[-1], terminal_state_data[-1])\n",
    "# Loop\n",
    "for i in range(1,42):\n",
    "    var_data.append(pd.read_csv(filepath_or_buffer=f'out/visualization{i}.csv', header=None))\n",
    "    var_data[-1].columns = cols\n",
    "    terminal_state_data.append(pd.read_csv(filepath_or_buffer=f'out/terminal_states{i}.csv'))\n",
    "    get_rewards(var_data[-1], terminal_state_data[-1])"
   ]
  },
  {
   "cell_type": "code",
   "execution_count": 219,
   "id": "6205d87a",
   "metadata": {},
   "outputs": [],
   "source": []
  },
  {
   "cell_type": "code",
   "execution_count": 221,
   "id": "91b77ebc",
   "metadata": {},
   "outputs": [],
   "source": [
    "df = var_data[0]"
   ]
  },
  {
   "cell_type": "code",
   "execution_count": 222,
   "id": "2b57018c",
   "metadata": {},
   "outputs": [
    {
     "data": {
      "text/html": [
       "<div>\n",
       "<style scoped>\n",
       "    .dataframe tbody tr th:only-of-type {\n",
       "        vertical-align: middle;\n",
       "    }\n",
       "\n",
       "    .dataframe tbody tr th {\n",
       "        vertical-align: top;\n",
       "    }\n",
       "\n",
       "    .dataframe thead th {\n",
       "        text-align: right;\n",
       "    }\n",
       "</style>\n",
       "<table border=\"1\" class=\"dataframe\">\n",
       "  <thead>\n",
       "    <tr style=\"text-align: right;\">\n",
       "      <th></th>\n",
       "      <th>n</th>\n",
       "      <th>Rewards</th>\n",
       "      <th>Distance</th>\n",
       "      <th>Agent</th>\n",
       "    </tr>\n",
       "  </thead>\n",
       "  <tbody>\n",
       "    <tr>\n",
       "      <th>0</th>\n",
       "      <td>1</td>\n",
       "      <td>-1</td>\n",
       "      <td>3</td>\n",
       "      <td>F</td>\n",
       "    </tr>\n",
       "    <tr>\n",
       "      <th>1</th>\n",
       "      <td>2</td>\n",
       "      <td>-1</td>\n",
       "      <td>3</td>\n",
       "      <td>M</td>\n",
       "    </tr>\n",
       "    <tr>\n",
       "      <th>2</th>\n",
       "      <td>3</td>\n",
       "      <td>-1</td>\n",
       "      <td>1</td>\n",
       "      <td>F</td>\n",
       "    </tr>\n",
       "    <tr>\n",
       "      <th>3</th>\n",
       "      <td>4</td>\n",
       "      <td>-1</td>\n",
       "      <td>1</td>\n",
       "      <td>M</td>\n",
       "    </tr>\n",
       "    <tr>\n",
       "      <th>4</th>\n",
       "      <td>5</td>\n",
       "      <td>-1</td>\n",
       "      <td>1</td>\n",
       "      <td>F</td>\n",
       "    </tr>\n",
       "  </tbody>\n",
       "</table>\n",
       "</div>"
      ],
      "text/plain": [
       "   n  Rewards  Distance Agent\n",
       "0  1       -1         3     F\n",
       "1  2       -1         3     M\n",
       "2  3       -1         1     F\n",
       "3  4       -1         1     M\n",
       "4  5       -1         1     F"
      ]
     },
     "execution_count": 222,
     "metadata": {},
     "output_type": "execute_result"
    }
   ],
   "source": [
    "df.head()"
   ]
  },
  {
   "cell_type": "code",
   "execution_count": 223,
   "id": "bfc3b1fb",
   "metadata": {},
   "outputs": [
    {
     "data": {
      "text/plain": [
       "'M'"
      ]
     },
     "execution_count": 223,
     "metadata": {},
     "output_type": "execute_result"
    }
   ],
   "source": [
    "df.loc[5+2,'Agent']"
   ]
  },
  {
   "cell_type": "code",
   "execution_count": 224,
   "id": "2df5fece",
   "metadata": {},
   "outputs": [
    {
     "name": "stdout",
     "output_type": "stream",
     "text": [
      "j = 1\n",
      "j = 2\n",
      "j = 3\n",
      "j = 4\n",
      "j = 5\n"
     ]
    }
   ],
   "source": [
    "get_rewards(var_data[-1], terminal_state_data[-1])\n",
    "#var_data[0]['Rewards'].unique()"
   ]
  },
  {
   "cell_type": "code",
   "execution_count": 225,
   "id": "41ca4e91",
   "metadata": {},
   "outputs": [
    {
     "data": {
      "text/html": [
       "<div>\n",
       "<style scoped>\n",
       "    .dataframe tbody tr th:only-of-type {\n",
       "        vertical-align: middle;\n",
       "    }\n",
       "\n",
       "    .dataframe tbody tr th {\n",
       "        vertical-align: top;\n",
       "    }\n",
       "\n",
       "    .dataframe thead th {\n",
       "        text-align: right;\n",
       "    }\n",
       "</style>\n",
       "<table border=\"1\" class=\"dataframe\">\n",
       "  <thead>\n",
       "    <tr style=\"text-align: right;\">\n",
       "      <th></th>\n",
       "      <th>n</th>\n",
       "      <th>Rewards</th>\n",
       "      <th>Distance</th>\n",
       "      <th>Agent</th>\n",
       "      <th>Male Rewards</th>\n",
       "      <th>Female Rewards</th>\n",
       "    </tr>\n",
       "  </thead>\n",
       "  <tbody>\n",
       "    <tr>\n",
       "      <th>0</th>\n",
       "      <td>1</td>\n",
       "      <td>-1</td>\n",
       "      <td>3</td>\n",
       "      <td>F</td>\n",
       "      <td>0</td>\n",
       "      <td>-1</td>\n",
       "    </tr>\n",
       "    <tr>\n",
       "      <th>1</th>\n",
       "      <td>2</td>\n",
       "      <td>-1</td>\n",
       "      <td>3</td>\n",
       "      <td>M</td>\n",
       "      <td>-1</td>\n",
       "      <td>-1</td>\n",
       "    </tr>\n",
       "    <tr>\n",
       "      <th>2</th>\n",
       "      <td>3</td>\n",
       "      <td>-1</td>\n",
       "      <td>1</td>\n",
       "      <td>F</td>\n",
       "      <td>-1</td>\n",
       "      <td>-2</td>\n",
       "    </tr>\n",
       "    <tr>\n",
       "      <th>3</th>\n",
       "      <td>4</td>\n",
       "      <td>-1</td>\n",
       "      <td>1</td>\n",
       "      <td>M</td>\n",
       "      <td>-2</td>\n",
       "      <td>-2</td>\n",
       "    </tr>\n",
       "    <tr>\n",
       "      <th>4</th>\n",
       "      <td>5</td>\n",
       "      <td>-1</td>\n",
       "      <td>1</td>\n",
       "      <td>F</td>\n",
       "      <td>-2</td>\n",
       "      <td>-3</td>\n",
       "    </tr>\n",
       "    <tr>\n",
       "      <th>...</th>\n",
       "      <td>...</td>\n",
       "      <td>...</td>\n",
       "      <td>...</td>\n",
       "      <td>...</td>\n",
       "      <td>...</td>\n",
       "      <td>...</td>\n",
       "    </tr>\n",
       "    <tr>\n",
       "      <th>4993</th>\n",
       "      <td>4994</td>\n",
       "      <td>-1</td>\n",
       "      <td>4</td>\n",
       "      <td>M</td>\n",
       "      <td>-190</td>\n",
       "      <td>-54</td>\n",
       "    </tr>\n",
       "    <tr>\n",
       "      <th>4994</th>\n",
       "      <td>4995</td>\n",
       "      <td>-1</td>\n",
       "      <td>2</td>\n",
       "      <td>F</td>\n",
       "      <td>-190</td>\n",
       "      <td>-55</td>\n",
       "    </tr>\n",
       "    <tr>\n",
       "      <th>4995</th>\n",
       "      <td>4996</td>\n",
       "      <td>-1</td>\n",
       "      <td>4</td>\n",
       "      <td>M</td>\n",
       "      <td>-191</td>\n",
       "      <td>-55</td>\n",
       "    </tr>\n",
       "    <tr>\n",
       "      <th>4996</th>\n",
       "      <td>4997</td>\n",
       "      <td>-1</td>\n",
       "      <td>2</td>\n",
       "      <td>F</td>\n",
       "      <td>-191</td>\n",
       "      <td>-56</td>\n",
       "    </tr>\n",
       "    <tr>\n",
       "      <th>4997</th>\n",
       "      <td>4998</td>\n",
       "      <td>-1</td>\n",
       "      <td>2</td>\n",
       "      <td>M</td>\n",
       "      <td>-192</td>\n",
       "      <td>-56</td>\n",
       "    </tr>\n",
       "  </tbody>\n",
       "</table>\n",
       "<p>4998 rows × 6 columns</p>\n",
       "</div>"
      ],
      "text/plain": [
       "         n  Rewards  Distance Agent  Male Rewards  Female Rewards\n",
       "0        1       -1         3     F             0              -1\n",
       "1        2       -1         3     M            -1              -1\n",
       "2        3       -1         1     F            -1              -2\n",
       "3        4       -1         1     M            -2              -2\n",
       "4        5       -1         1     F            -2              -3\n",
       "...    ...      ...       ...   ...           ...             ...\n",
       "4993  4994       -1         4     M          -190             -54\n",
       "4994  4995       -1         2     F          -190             -55\n",
       "4995  4996       -1         4     M          -191             -55\n",
       "4996  4997       -1         2     F          -191             -56\n",
       "4997  4998       -1         2     M          -192             -56\n",
       "\n",
       "[4998 rows x 6 columns]"
      ]
     },
     "execution_count": 225,
     "metadata": {},
     "output_type": "execute_result"
    }
   ],
   "source": [
    "var_data[-1]"
   ]
  },
  {
   "cell_type": "code",
   "execution_count": 226,
   "id": "6cc74695",
   "metadata": {},
   "outputs": [],
   "source": [
    "import matplotlib.pyplot as plt"
   ]
  },
  {
   "cell_type": "code",
   "execution_count": 230,
   "id": "14baf683",
   "metadata": {},
   "outputs": [
    {
     "data": {
      "text/plain": [
       "[<matplotlib.lines.Line2D at 0x7f47db0a5c60>,\n",
       " <matplotlib.lines.Line2D at 0x7f47db0a5ae0>]"
      ]
     },
     "execution_count": 230,
     "metadata": {},
     "output_type": "execute_result"
    },
    {
     "data": {
      "image/png": "[encoded data removed]",
      "text/plain": [
       "<Figure size 640x480 with 1 Axes>"
      ]
     },
     "metadata": {},
     "output_type": "display_data"
    }
   ],
   "source": [
    "plt.plot(var_data[0]['n'],var_data[0]['Male Rewards'],var_data[0]['Female Rewards'])"
   ]
  },
  {
   "cell_type": "code",
   "execution_count": 229,
   "id": "7baafc0a",
   "metadata": {},
   "outputs": [
    {
     "name": "stdout",
     "output_type": "stream",
     "text": [
      "j = 1\n",
      "j = 2\n",
      "j = 3\n",
      "j = 4\n",
      "j = 5\n",
      "j = 1\n",
      "j = 2\n",
      "j = 3\n",
      "j = 4\n",
      "j = 5\n",
      "j = 1\n",
      "j = 2\n",
      "j = 3\n",
      "j = 4\n",
      "j = 5\n",
      "j = 6\n",
      "j = 1\n",
      "j = 2\n",
      "j = 3\n",
      "j = 4\n",
      "j = 5\n",
      "j = 1\n",
      "j = 2\n",
      "j = 3\n",
      "j = 4\n",
      "j = 5\n",
      "j = 6\n",
      "j = 1\n",
      "j = 2\n",
      "j = 3\n",
      "j = 4\n",
      "j = 1\n",
      "j = 2\n",
      "j = 3\n",
      "j = 4\n",
      "j = 5\n",
      "j = 6\n",
      "j = 7\n",
      "j = 1\n",
      "j = 2\n",
      "j = 3\n",
      "j = 4\n",
      "j = 5\n",
      "j = 1\n",
      "j = 2\n",
      "j = 3\n",
      "j = 4\n",
      "j = 5\n",
      "j = 1\n",
      "j = 2\n",
      "j = 3\n",
      "j = 4\n",
      "j = 5\n",
      "j = 1\n",
      "j = 2\n",
      "j = 3\n",
      "j = 4\n",
      "j = 5\n",
      "j = 6\n",
      "j = 1\n",
      "j = 2\n",
      "j = 1\n",
      "j = 2\n",
      "j = 3\n",
      "j = 1\n",
      "j = 2\n",
      "j = 3\n",
      "j = 4\n",
      "j = 5\n",
      "j = 1\n",
      "j = 2\n",
      "j = 3\n",
      "j = 4\n",
      "j = 5\n",
      "j = 1\n",
      "j = 1\n",
      "j = 2\n",
      "j = 1\n",
      "j = 2\n",
      "j = 3\n",
      "j = 4\n",
      "j = 5\n",
      "j = 6\n",
      "j = 7\n",
      "j = 8\n",
      "j = 9\n",
      "j = 10\n",
      "j = 11\n",
      "j = 12\n",
      "j = 13\n",
      "j = 1\n",
      "j = 2\n",
      "j = 3\n",
      "j = 4\n",
      "j = 5\n",
      "j = 6\n",
      "j = 7\n",
      "j = 8\n",
      "j = 9\n",
      "j = 10\n",
      "j = 11\n",
      "j = 12\n",
      "j = 13\n",
      "j = 1\n",
      "j = 2\n",
      "j = 3\n",
      "j = 1\n",
      "j = 2\n",
      "j = 3\n",
      "j = 4\n",
      "j = 5\n",
      "j = 6\n",
      "j = 7\n",
      "j = 1\n",
      "j = 2\n",
      "j = 1\n",
      "j = 1\n",
      "j = 1\n",
      "j = 2\n",
      "j = 1\n",
      "j = 2\n",
      "j = 3\n",
      "j = 4\n",
      "j = 5\n",
      "j = 1\n",
      "j = 2\n",
      "j = 3\n",
      "j = 4\n",
      "j = 5\n",
      "j = 1\n",
      "j = 2\n",
      "j = 3\n",
      "j = 4\n",
      "j = 5\n",
      "j = 6\n",
      "j = 7\n",
      "j = 8\n",
      "j = 9\n",
      "j = 10\n",
      "j = 11\n",
      "j = 1\n",
      "j = 2\n",
      "j = 3\n",
      "j = 4\n",
      "j = 5\n",
      "j = 6\n",
      "j = 7\n",
      "j = 8\n",
      "j = 9\n",
      "j = 1\n",
      "j = 2\n",
      "j = 3\n",
      "j = 4\n",
      "j = 5\n",
      "j = 6\n",
      "j = 7\n",
      "j = 8\n",
      "j = 1\n",
      "j = 2\n",
      "j = 3\n",
      "j = 4\n",
      "j = 5\n",
      "j = 6\n",
      "j = 7\n",
      "j = 8\n",
      "j = 1\n",
      "j = 2\n",
      "j = 3\n",
      "j = 4\n",
      "j = 5\n",
      "j = 6\n",
      "j = 7\n",
      "j = 8\n",
      "j = 9\n",
      "j = 1\n",
      "j = 2\n",
      "j = 3\n",
      "j = 4\n",
      "j = 5\n",
      "j = 6\n",
      "j = 7\n",
      "j = 8\n",
      "j = 9\n",
      "j = 1\n",
      "j = 2\n",
      "j = 3\n",
      "j = 4\n",
      "j = 5\n",
      "j = 6\n",
      "j = 7\n",
      "j = 1\n",
      "j = 2\n",
      "j = 3\n",
      "j = 4\n",
      "j = 5\n",
      "j = 6\n",
      "j = 7\n",
      "j = 1\n",
      "j = 2\n",
      "j = 3\n",
      "j = 4\n",
      "j = 5\n",
      "j = 6\n",
      "j = 7\n",
      "j = 8\n",
      "j = 1\n",
      "j = 2\n",
      "j = 3\n",
      "j = 4\n",
      "j = 5\n",
      "j = 6\n",
      "j = 7\n",
      "j = 8\n",
      "j = 9\n",
      "j = 1\n",
      "j = 2\n",
      "j = 3\n",
      "j = 1\n",
      "j = 2\n",
      "j = 3\n"
     ]
    }
   ],
   "source": [
    "for i in range(1,42):\n",
    "    var_data.append(pd.read_csv(filepath_or_buffer=f'out/visualization{i}.csv', header=None))\n",
    "    var_data[-1].columns = cols\n",
    "    terminal_state_data.append(pd.read_csv(filepath_or_buffer=f'out/terminal_states{i}.csv'))\n",
    "    get_rewards(var_data[-1], terminal_state_data[-1])"
   ]
  },
  {
   "cell_type": "code",
   "execution_count": 94,
   "id": "793de4d4",
   "metadata": {},
   "outputs": [
    {
     "data": {
      "text/html": [
       "<div>\n",
       "<style scoped>\n",
       "    .dataframe tbody tr th:only-of-type {\n",
       "        vertical-align: middle;\n",
       "    }\n",
       "\n",
       "    .dataframe tbody tr th {\n",
       "        vertical-align: top;\n",
       "    }\n",
       "\n",
       "    .dataframe thead th {\n",
       "        text-align: right;\n",
       "    }\n",
       "</style>\n",
       "<table border=\"1\" class=\"dataframe\">\n",
       "  <thead>\n",
       "    <tr style=\"text-align: right;\">\n",
       "      <th></th>\n",
       "      <th>n</th>\n",
       "      <th>Rewards</th>\n",
       "      <th>Distance</th>\n",
       "      <th>Agent</th>\n",
       "    </tr>\n",
       "  </thead>\n",
       "  <tbody>\n",
       "    <tr>\n",
       "      <th>0</th>\n",
       "      <td>1</td>\n",
       "      <td>-1</td>\n",
       "      <td>3</td>\n",
       "      <td>F</td>\n",
       "    </tr>\n",
       "    <tr>\n",
       "      <th>1</th>\n",
       "      <td>2</td>\n",
       "      <td>-1</td>\n",
       "      <td>3</td>\n",
       "      <td>M</td>\n",
       "    </tr>\n",
       "    <tr>\n",
       "      <th>2</th>\n",
       "      <td>3</td>\n",
       "      <td>-1</td>\n",
       "      <td>1</td>\n",
       "      <td>F</td>\n",
       "    </tr>\n",
       "    <tr>\n",
       "      <th>3</th>\n",
       "      <td>4</td>\n",
       "      <td>-1</td>\n",
       "      <td>1</td>\n",
       "      <td>M</td>\n",
       "    </tr>\n",
       "    <tr>\n",
       "      <th>4</th>\n",
       "      <td>5</td>\n",
       "      <td>-1</td>\n",
       "      <td>1</td>\n",
       "      <td>F</td>\n",
       "    </tr>\n",
       "    <tr>\n",
       "      <th>...</th>\n",
       "      <td>...</td>\n",
       "      <td>...</td>\n",
       "      <td>...</td>\n",
       "      <td>...</td>\n",
       "    </tr>\n",
       "    <tr>\n",
       "      <th>4993</th>\n",
       "      <td>4994</td>\n",
       "      <td>-1</td>\n",
       "      <td>4</td>\n",
       "      <td>M</td>\n",
       "    </tr>\n",
       "    <tr>\n",
       "      <th>4994</th>\n",
       "      <td>4995</td>\n",
       "      <td>-1</td>\n",
       "      <td>2</td>\n",
       "      <td>F</td>\n",
       "    </tr>\n",
       "    <tr>\n",
       "      <th>4995</th>\n",
       "      <td>4996</td>\n",
       "      <td>-1</td>\n",
       "      <td>4</td>\n",
       "      <td>M</td>\n",
       "    </tr>\n",
       "    <tr>\n",
       "      <th>4996</th>\n",
       "      <td>4997</td>\n",
       "      <td>-1</td>\n",
       "      <td>2</td>\n",
       "      <td>F</td>\n",
       "    </tr>\n",
       "    <tr>\n",
       "      <th>4997</th>\n",
       "      <td>4998</td>\n",
       "      <td>-1</td>\n",
       "      <td>2</td>\n",
       "      <td>M</td>\n",
       "    </tr>\n",
       "  </tbody>\n",
       "</table>\n",
       "<p>4998 rows × 4 columns</p>\n",
       "</div>"
      ],
      "text/plain": [
       "         n  Rewards  Distance Agent\n",
       "0        1       -1         3     F\n",
       "1        2       -1         3     M\n",
       "2        3       -1         1     F\n",
       "3        4       -1         1     M\n",
       "4        5       -1         1     F\n",
       "...    ...      ...       ...   ...\n",
       "4993  4994       -1         4     M\n",
       "4994  4995       -1         2     F\n",
       "4995  4996       -1         4     M\n",
       "4996  4997       -1         2     F\n",
       "4997  4998       -1         2     M\n",
       "\n",
       "[4998 rows x 4 columns]"
      ]
     },
     "execution_count": 94,
     "metadata": {},
     "output_type": "execute_result"
    }
   ],
   "source": [
    "var_data[0]"
   ]
  },
  {
   "cell_type": "code",
   "execution_count": null,
   "id": "b5bd25a4",
   "metadata": {},
   "outputs": [],
   "source": [
    "# value of n after terminal states reached for experiment 1a with seed 1 and ss statespace\n",
    "terminalStates_data = pd.read_csv(filepath_or_buffer='visualizations/terminal_states.csv')\n",
    "terminalStates_data"
   ]
  },
  {
   "cell_type": "code",
   "execution_count": null,
   "id": "11360530",
   "metadata": {},
   "outputs": [],
   "source": [
    "#Reading CSV file for experiment 1a with seed 42 and ss statespace\n",
    "cols = ['n', 'Rewards', 'Distance', 'Agent']\n",
    "var_data1 = pd.read_csv(filepath_or_buffer='visualizations/visualization1.csv', header=None)\n",
    "var_data1.columns = cols\n",
    "var_data1"
   ]
  },
  {
   "cell_type": "code",
   "execution_count": null,
   "id": "8f4f82fc",
   "metadata": {},
   "outputs": [],
   "source": [
    "# value of n after terminal states reached for experiment 1a with seed 42 and ss statespace\n",
    "terminalStates_data1 = pd.read_csv(filepath_or_buffer='visualizations/terminal_states1.csv')\n",
    "terminalStates_data1"
   ]
  },
  {
   "cell_type": "code",
   "execution_count": null,
   "id": "e3565454",
   "metadata": {},
   "outputs": [],
   "source": [
    "#Reading CSV file for experiment 1b with seed 1 and ss statespace\n",
    "cols = ['n', 'Rewards', 'Distance', 'Agent']\n",
    "var_data2 = pd.read_csv(filepath_or_buffer='visualizations/visualization2.csv', header=None)\n",
    "var_data2.columns = cols\n",
    "var_data2"
   ]
  },
  {
   "cell_type": "code",
   "execution_count": null,
   "id": "64d8f659",
   "metadata": {},
   "outputs": [],
   "source": [
    "# value of n after terminal states reached for experiment 1b with seed 1 and ss statespace\n",
    "terminalStates_data1 = pd.read_csv(filepath_or_buffer='visualizations/terminal_states2.csv')\n",
    "terminalStates_data1"
   ]
  },
  {
   "cell_type": "code",
   "execution_count": null,
   "id": "12fac8d2",
   "metadata": {},
   "outputs": [],
   "source": [
    "#Reading CSV file for experiment 1b with seed 42 and ss statespace\n",
    "cols = ['n', 'Rewards', 'Distance', 'Agent']\n",
    "var_data3 = pd.read_csv(filepath_or_buffer='visualizations/visualization3.csv', header=None)\n",
    "var_data3.columns = cols\n",
    "var_data3"
   ]
  },
  {
   "cell_type": "code",
   "execution_count": null,
   "id": "8c27f15c",
   "metadata": {},
   "outputs": [],
   "source": [
    "# value of n after terminal states reached for experiment 1b with seed 42 and ss statespace\n",
    "terminalStates_data3 = pd.read_csv(filepath_or_buffer='visualizations/terminal_states3.csv')\n",
    "terminalStates_data3"
   ]
  },
  {
   "cell_type": "code",
   "execution_count": null,
   "id": "c6419a6d",
   "metadata": {},
   "outputs": [],
   "source": [
    "#Reading CSV file for experiment 1c with seed 1 and ss statespace\n",
    "cols = ['n', 'Rewards', 'Distance', 'Agent']\n",
    "var_data4 = pd.read_csv(filepath_or_buffer='visualizations/visualization4.csv', header=None)\n",
    "var_data4.columns = cols\n",
    "var_data4"
   ]
  },
  {
   "cell_type": "code",
   "execution_count": null,
   "id": "4a438d81",
   "metadata": {},
   "outputs": [],
   "source": [
    "# value of n after terminal states reached for experiment 1c with seed 1 and ss statespace\n",
    "terminalStates_data4 = pd.read_csv(filepath_or_buffer='visualizations/terminal_states4.csv')\n",
    "terminalStates_data4"
   ]
  },
  {
   "cell_type": "code",
   "execution_count": null,
   "id": "bf705b03",
   "metadata": {},
   "outputs": [],
   "source": [
    "#Reading CSV file for experiment 1c with seed 42 and ss statespace\n",
    "cols = ['n', 'Rewards', 'Distance', 'Agent']\n",
    "var_data5 = pd.read_csv(filepath_or_buffer='visualizations/visualization5.csv', header=None)\n",
    "var_data5.columns = cols\n",
    "var_data5"
   ]
  },
  {
   "cell_type": "code",
   "execution_count": null,
   "id": "21a124df",
   "metadata": {},
   "outputs": [],
   "source": [
    "# value of n after terminal states reached for experiment 1c with seed 1 and ss statespace\n",
    "terminalStates_data5 = pd.read_csv(filepath_or_buffer='visualizations/terminal_states5.csv')\n",
    "terminalStates_data5"
   ]
  },
  {
   "cell_type": "code",
   "execution_count": null,
   "id": "75dcb5bc",
   "metadata": {},
   "outputs": [],
   "source": [
    "#Reading CSV file for experiment 2 with seed 1 and ss statespace\n",
    "cols = ['n', 'Rewards', 'Distance', 'Agent']\n",
    "var_data6 = pd.read_csv(filepath_or_buffer='visualizations/visualization6.csv', header=None)\n",
    "var_data6.columns = cols\n",
    "var_data6"
   ]
  },
  {
   "cell_type": "code",
   "execution_count": null,
   "id": "0e394703",
   "metadata": {},
   "outputs": [],
   "source": [
    "# value of n after terminal states reached for experiment 2 with seed 1 and ss statespace\n",
    "terminalStates_data6 = pd.read_csv(filepath_or_buffer='visualizations/terminal_states6.csv')\n",
    "terminalStates_data6"
   ]
  },
  {
   "cell_type": "code",
   "execution_count": null,
   "id": "c7b8f3b5",
   "metadata": {},
   "outputs": [],
   "source": [
    "#Reading CSV file for experiment 2 with seed 42 and ss statespace\n",
    "cols = ['n', 'Rewards', 'Distance', 'Agent']\n",
    "var_data7 = pd.read_csv(filepath_or_buffer='visualizations/visualization7.csv', header=None)\n",
    "var_data7.columns = cols\n",
    "var_data7"
   ]
  },
  {
   "cell_type": "code",
   "execution_count": null,
   "id": "ecad4514",
   "metadata": {},
   "outputs": [],
   "source": [
    "# value of n after terminal states reached for experiment 2 with seed 42 and ss statespace\n",
    "terminalStates_data7 = pd.read_csv(filepath_or_buffer='visualizations/terminal_states7.csv')\n",
    "terminalStates_data7"
   ]
  },
  {
   "cell_type": "code",
   "execution_count": null,
   "id": "4b05ec70",
   "metadata": {},
   "outputs": [],
   "source": [
    "#Reading CSV file for experiment 3a with seed 1 and ss statespace\n",
    "cols = ['n', 'Rewards', 'Distance', 'Agent']\n",
    "var_data8 = pd.read_csv(filepath_or_buffer='visualizations/visualization8.csv', header=None)\n",
    "var_data8.columns = cols\n",
    "var_data8"
   ]
  },
  {
   "cell_type": "code",
   "execution_count": null,
   "id": "377f123c",
   "metadata": {},
   "outputs": [],
   "source": [
    "# value of n after terminal states reached for experiment 3a with seed 1 and ss statespace\n",
    "terminalStates_data8 = pd.read_csv(filepath_or_buffer='visualizations/terminal_states8.csv')\n",
    "terminalStates_data8"
   ]
  },
  {
   "cell_type": "code",
   "execution_count": null,
   "id": "afc9de08",
   "metadata": {},
   "outputs": [],
   "source": [
    "#Reading CSV file for experiment 3a with seed 42 and ss statespace\n",
    "cols = ['n', 'Rewards', 'Distance', 'Agent']\n",
    "var_data9 = pd.read_csv(filepath_or_buffer='visualizations/visualization9.csv', header=None)\n",
    "var_data9.columns = cols\n",
    "var_data9"
   ]
  },
  {
   "cell_type": "code",
   "execution_count": null,
   "id": "6fecefef",
   "metadata": {},
   "outputs": [],
   "source": [
    "# value of n after terminal states reached for experiment 3a with seed 42 and ss statespace\n",
    "terminalStates_data9 = pd.read_csv(filepath_or_buffer='visualizations/terminal_states9.csv')\n",
    "terminalStates_data9"
   ]
  },
  {
   "cell_type": "code",
   "execution_count": null,
   "id": "54cc8a09",
   "metadata": {},
   "outputs": [],
   "source": [
    "#Reading CSV file for experiment 3b with seed 1 and ss statespace\n",
    "cols = ['n', 'Rewards', 'Distance', 'Agent']\n",
    "var_data10 = pd.read_csv(filepath_or_buffer='visualizations/visualization10.csv', header=None)\n",
    "var_data10.columns = cols\n",
    "var_data10"
   ]
  },
  {
   "cell_type": "code",
   "execution_count": null,
   "id": "9918877a",
   "metadata": {},
   "outputs": [],
   "source": [
    "# value of n after terminal states reached for experiment 3b with seed 1 and ss statespace\n",
    "terminalStates_data10 = pd.read_csv(filepath_or_buffer='visualizations/terminal_states10.csv')\n",
    "terminalStates_data10"
   ]
  },
  {
   "cell_type": "code",
   "execution_count": null,
   "id": "607d3a28",
   "metadata": {},
   "outputs": [],
   "source": [
    "#Reading CSV file for experiment 3b with seed 42 and ss statespace\n",
    "cols = ['n', 'Rewards', 'Distance', 'Agent']\n",
    "var_data11 = pd.read_csv(filepath_or_buffer='visualizations/visualization11.csv', header=None)\n",
    "var_data11.columns = cols\n",
    "var_data11"
   ]
  },
  {
   "cell_type": "code",
   "execution_count": null,
   "id": "3e61fd5f",
   "metadata": {},
   "outputs": [],
   "source": [
    "# value of n after terminal states reached for experiment 3b with seed 42 and ss statespace\n",
    "terminalStates_data11 = pd.read_csv(filepath_or_buffer='visualizations/terminal_states11.csv')\n",
    "terminalStates_data11"
   ]
  },
  {
   "cell_type": "code",
   "execution_count": null,
   "id": "38bbf382",
   "metadata": {},
   "outputs": [],
   "source": [
    "#Reading CSV file for experiment 4 with seed 1 and ss statespace\n",
    "cols = ['n', 'Rewards', 'Distance', 'Agent']\n",
    "var_data12 = pd.read_csv(filepath_or_buffer='visualizations/visualization12.csv', header=None)\n",
    "var_data12.columns = cols\n",
    "var_data12"
   ]
  },
  {
   "cell_type": "code",
   "execution_count": null,
   "id": "487c5b8a",
   "metadata": {},
   "outputs": [],
   "source": [
    "# value of n after terminal states reached for experiment 4 with seed 1 and ss statespace\n",
    "terminalStates_data12 = pd.read_csv(filepath_or_buffer='visualizations/terminal_states12.csv')\n",
    "terminalStates_data12"
   ]
  },
  {
   "cell_type": "code",
   "execution_count": null,
   "id": "6f1d502c",
   "metadata": {},
   "outputs": [],
   "source": [
    "#Reading CSV file for experiment 4 with seed 42 and ss statespace\n",
    "cols = ['n', 'Rewards', 'Distance', 'Agent']\n",
    "var_data13 = pd.read_csv(filepath_or_buffer='visualizations/visualization13.csv', header=None)\n",
    "var_data13.columns = cols\n",
    "var_data13"
   ]
  },
  {
   "cell_type": "code",
   "execution_count": null,
   "id": "8a136e4c",
   "metadata": {},
   "outputs": [],
   "source": [
    "# value of n after terminal states reached for experiment 4 with seed 42 and ss statespace\n",
    "terminalStates_data13 = pd.read_csv(filepath_or_buffer='visualizations/terminal_states13.csv')\n",
    "terminalStates_data13"
   ]
  },
  {
   "cell_type": "code",
   "execution_count": null,
   "id": "e8808391",
   "metadata": {},
   "outputs": [],
   "source": [
    "#Reading CSV file for experiment 1a with seed 1 and vs statespace\n",
    "cols = ['n', 'Rewards', 'Distance', 'Agent']\n",
    "var_data14 = pd.read_csv(filepath_or_buffer='visualizations/visualization14.csv', header=None)\n",
    "var_data14.columns = cols\n",
    "var_data14"
   ]
  },
  {
   "cell_type": "code",
   "execution_count": null,
   "id": "75c44a9b",
   "metadata": {},
   "outputs": [],
   "source": [
    "# value of n after terminal states reached for experiment 1a with seed 1 and vs statespace\n",
    "terminalStates_data14 = pd.read_csv(filepath_or_buffer='visualizations/terminal_states14.csv')\n",
    "terminalStates_data14"
   ]
  },
  {
   "cell_type": "code",
   "execution_count": null,
   "id": "acedb2b3",
   "metadata": {},
   "outputs": [],
   "source": [
    "#Reading CSV file for experiment 1a with seed 42 and vs statespace\n",
    "cols = ['n', 'Rewards', 'Distance', 'Agent']\n",
    "var_data15 = pd.read_csv(filepath_or_buffer='visualizations/visualization15.csv', header=None)\n",
    "var_data15.columns = cols\n",
    "var_data15"
   ]
  },
  {
   "cell_type": "code",
   "execution_count": null,
   "id": "88236ed1",
   "metadata": {},
   "outputs": [],
   "source": [
    "# value of n after terminal states reached for experiment 1a with seed 42 and vs statespace\n",
    "terminalStates_data15 = pd.read_csv(filepath_or_buffer='visualizations/terminal_states15.csv')\n",
    "terminalStates_data15"
   ]
  },
  {
   "cell_type": "code",
   "execution_count": null,
   "id": "fd7f0eaa",
   "metadata": {},
   "outputs": [],
   "source": [
    "#Reading CSV file for experiment 1b with seed 1 and vs statespace\n",
    "cols = ['n', 'Rewards', 'Distance', 'Agent']\n",
    "var_data16 = pd.read_csv(filepath_or_buffer='visualizations/visualization16.csv', header=None)\n",
    "var_data16.columns = cols\n",
    "var_data16"
   ]
  },
  {
   "cell_type": "code",
   "execution_count": null,
   "id": "3bd929be",
   "metadata": {},
   "outputs": [],
   "source": [
    "# value of n after terminal states reached for experiment 1b with seed 1 and vs statespace\n",
    "terminalStates_data16 = pd.read_csv(filepath_or_buffer='visualizations/terminal_states16.csv')\n",
    "terminalStates_data16"
   ]
  },
  {
   "cell_type": "code",
   "execution_count": null,
   "id": "70be9963",
   "metadata": {},
   "outputs": [],
   "source": [
    "#Reading CSV file for experiment 1b with seed 42 and vs statespace\n",
    "cols = ['n', 'Rewards', 'Distance', 'Agent']\n",
    "var_data17 = pd.read_csv(filepath_or_buffer='visualizations/visualization17.csv', header=None)\n",
    "var_data17.columns = cols\n",
    "var_data17"
   ]
  },
  {
   "cell_type": "code",
   "execution_count": null,
   "id": "1a10e8a9",
   "metadata": {},
   "outputs": [],
   "source": [
    "# value of n after terminal states reached for experiment 1b with seed 42 and vs statespace\n",
    "terminalStates_data17 = pd.read_csv(filepath_or_buffer='visualizations/terminal_states17.csv')\n",
    "terminalStates_data17"
   ]
  },
  {
   "cell_type": "code",
   "execution_count": null,
   "id": "b73bf509",
   "metadata": {},
   "outputs": [],
   "source": [
    "#Reading CSV file for experiment 1c with seed 1 and vs statespace\n",
    "cols = ['n', 'Rewards', 'Distance', 'Agent']\n",
    "var_data18 = pd.read_csv(filepath_or_buffer='visualizations/visualization18.csv', header=None)\n",
    "var_data18.columns = cols\n",
    "var_data18"
   ]
  },
  {
   "cell_type": "code",
   "execution_count": null,
   "id": "387e1d7a",
   "metadata": {},
   "outputs": [],
   "source": [
    "# value of n after terminal states reached for experiment 1c with seed 1 and vs statespace\n",
    "terminalStates_data18 = pd.read_csv(filepath_or_buffer='visualizations/terminal_states18.csv')\n",
    "terminalStates_data18"
   ]
  },
  {
   "cell_type": "code",
   "execution_count": null,
   "id": "198a87a8",
   "metadata": {},
   "outputs": [],
   "source": [
    "#Reading CSV file for experiment 1c with seed 42 and vs statespace\n",
    "cols = ['n', 'Rewards', 'Distance', 'Agent']\n",
    "var_data19 = pd.read_csv(filepath_or_buffer='visualizations/visualization19.csv', header=None)\n",
    "var_data19.columns = cols\n",
    "var_data19"
   ]
  },
  {
   "cell_type": "code",
   "execution_count": null,
   "id": "389a7eef",
   "metadata": {},
   "outputs": [],
   "source": [
    "# value of n after terminal states reached for experiment 1c with seed 42 and vs statespace\n",
    "terminalStates_data19 = pd.read_csv(filepath_or_buffer='visualizations/terminal_states19.csv')\n",
    "terminalStates_data19"
   ]
  },
  {
   "cell_type": "code",
   "execution_count": null,
   "id": "6009c327",
   "metadata": {},
   "outputs": [],
   "source": [
    "#Reading CSV file for experiment 2 with seed 1 and vs statespace\n",
    "cols = ['n', 'Rewards', 'Distance', 'Agent']\n",
    "var_data20 = pd.read_csv(filepath_or_buffer='visualizations/visualization20.csv', header=None)\n",
    "var_data20.columns = cols\n",
    "var_data20"
   ]
  },
  {
   "cell_type": "code",
   "execution_count": null,
   "id": "c5a34dbc",
   "metadata": {},
   "outputs": [],
   "source": [
    "# value of n after terminal states reached for experiment 2 with seed 1 and vs statespace\n",
    "terminalStates_data20 = pd.read_csv(filepath_or_buffer='visualizations/terminal_states20.csv')\n",
    "terminalStates_data20"
   ]
  },
  {
   "cell_type": "code",
   "execution_count": null,
   "id": "0efab584",
   "metadata": {},
   "outputs": [],
   "source": [
    "#Reading CSV file for experiment 2 with seed 42 and vs statespace\n",
    "cols = ['n', 'Rewards', 'Distance', 'Agent']\n",
    "var_data21 = pd.read_csv(filepath_or_buffer='visualizations/visualization21.csv', header=None)\n",
    "var_data21.columns = cols\n",
    "var_data21"
   ]
  },
  {
   "cell_type": "code",
   "execution_count": null,
   "id": "89069569",
   "metadata": {},
   "outputs": [],
   "source": [
    "# value of n after terminal states reached for experiment 2 with seed 42 and vs statespace\n",
    "terminalStates_data21 = pd.read_csv(filepath_or_buffer='visualizations/terminal_states21.csv')\n",
    "terminalStates_data21"
   ]
  },
  {
   "cell_type": "code",
   "execution_count": null,
   "id": "5fd4b238",
   "metadata": {},
   "outputs": [],
   "source": [
    "#Reading CSV file for experiment 3a with seed 1 and vs statespace\n",
    "cols = ['n', 'Rewards', 'Distance', 'Agent']\n",
    "var_data22 = pd.read_csv(filepath_or_buffer='visualizations/visualization22.csv', header=None)\n",
    "var_data22.columns = cols\n",
    "var_data22"
   ]
  },
  {
   "cell_type": "code",
   "execution_count": null,
   "id": "afc494a6",
   "metadata": {},
   "outputs": [],
   "source": [
    "# value of n after terminal states reached for experiment 3a with seed 1 and vs statespace\n",
    "terminalStates_data22 = pd.read_csv(filepath_or_buffer='visualizations/terminal_states22.csv')\n",
    "terminalStates_data22"
   ]
  },
  {
   "cell_type": "code",
   "execution_count": null,
   "id": "f9a24aa6",
   "metadata": {},
   "outputs": [],
   "source": [
    "#Reading CSV file for experiment 3a with seed 42 and vs statespace\n",
    "cols = ['n', 'Rewards', 'Distance', 'Agent']\n",
    "var_data23 = pd.read_csv(filepath_or_buffer='visualizations/visualization23.csv', header=None)\n",
    "var_data23.columns = cols\n",
    "var_data23"
   ]
  },
  {
   "cell_type": "code",
   "execution_count": null,
   "id": "32bf02ed",
   "metadata": {},
   "outputs": [],
   "source": [
    "# value of n after terminal states reached for experiment 3a with seed 42 and vs statespace\n",
    "terminalStates_data23 = pd.read_csv(filepath_or_buffer='visualizations/terminal_states21.csv')\n",
    "terminalStates_data23"
   ]
  },
  {
   "cell_type": "code",
   "execution_count": null,
   "id": "401c5407",
   "metadata": {},
   "outputs": [],
   "source": [
    "#Reading CSV file for experiment 3b with seed 1 and vs statespace\n",
    "cols = ['n', 'Rewards', 'Distance', 'Agent']\n",
    "var_data24 = pd.read_csv(filepath_or_buffer='visualizations/visualization21.csv', header=None)\n",
    "var_data24.columns = cols\n",
    "var_data24"
   ]
  },
  {
   "cell_type": "code",
   "execution_count": null,
   "id": "d17bbc51",
   "metadata": {},
   "outputs": [],
   "source": [
    "# value of n after terminal states reached for experiment 3b with seed 1 and vs statespace\n",
    "terminalStates_data24 = pd.read_csv(filepath_or_buffer='visualizations/terminal_states24.csv')\n",
    "terminalStates_data24"
   ]
  },
  {
   "cell_type": "code",
   "execution_count": null,
   "id": "80ca0945",
   "metadata": {},
   "outputs": [],
   "source": [
    "#Reading CSV file for experiment 3b with seed 42 and vs statespace\n",
    "cols = ['n', 'Rewards', 'Distance', 'Agent']\n",
    "var_data25 = pd.read_csv(filepath_or_buffer='visualizations/visualization25.csv', header=None)\n",
    "var_data25.columns = cols\n",
    "var_data25"
   ]
  },
  {
   "cell_type": "code",
   "execution_count": null,
   "id": "2b1ce696",
   "metadata": {},
   "outputs": [],
   "source": [
    "# value of n after terminal states reached for experiment 3b with seed 42 and vs statespace\n",
    "terminalStates_data25 = pd.read_csv(filepath_or_buffer='visualizations/terminal_states25.csv')\n",
    "terminalStates_data25"
   ]
  },
  {
   "cell_type": "code",
   "execution_count": null,
   "id": "2188ad08",
   "metadata": {},
   "outputs": [],
   "source": [
    "#Reading CSV file for experiment 4 with seed 1 and vs statespace\n",
    "cols = ['n', 'Rewards', 'Distance', 'Agent']\n",
    "var_data26 = pd.read_csv(filepath_or_buffer='visualizations/visualization26.csv', header=None)\n",
    "var_data26.columns = cols\n",
    "var_data26"
   ]
  },
  {
   "cell_type": "code",
   "execution_count": null,
   "id": "4a22e7ce",
   "metadata": {},
   "outputs": [],
   "source": [
    "# value of n after terminal states reached for experiment 4 with seed 1 and vs statespace\n",
    "terminalStates_data26 = pd.read_csv(filepath_or_buffer='visualizations/terminal_states26.csv')\n",
    "terminalStates_data26"
   ]
  },
  {
   "cell_type": "code",
   "execution_count": null,
   "id": "ba0796cc",
   "metadata": {},
   "outputs": [],
   "source": [
    "#Reading CSV file for experiment 4 with seed 42 and vs statespace\n",
    "cols = ['n', 'Rewards', 'Distance', 'Agent']\n",
    "var_data27 = pd.read_csv(filepath_or_buffer='visualizations/visualization27.csv', header=None)\n",
    "var_data27.columns = cols\n",
    "var_data27"
   ]
  },
  {
   "cell_type": "code",
   "execution_count": null,
   "id": "b70d6e0a",
   "metadata": {},
   "outputs": [],
   "source": [
    "# value of n after terminal states reached for experiment 4 with seed 42 and vs statespace\n",
    "terminalStates_data27 = pd.read_csv(filepath_or_buffer='visualizations/terminal_states27.csv')\n",
    "terminalStates_data27"
   ]
  },
  {
   "cell_type": "code",
   "execution_count": null,
   "id": "f09dee26",
   "metadata": {},
   "outputs": [],
   "source": [
    "#Reading CSV file for experiment 1a with seed 1 and ms statespace\n",
    "cols = ['n', 'Rewards', 'Distance', 'Agent']\n",
    "var_data28 = pd.read_csv(filepath_or_buffer='visualizations/visualization28.csv', header=None)\n",
    "var_data28.columns = cols\n",
    "var_data28"
   ]
  },
  {
   "cell_type": "code",
   "execution_count": null,
   "id": "72b112c2",
   "metadata": {},
   "outputs": [],
   "source": [
    "# value of n after terminal states reached for experiment 1a with seed 1 and ms statespace\n",
    "terminalStates_data28 = pd.read_csv(filepath_or_buffer='visualizations/terminal_states28.csv')\n",
    "terminalStates_data28"
   ]
  },
  {
   "cell_type": "code",
   "execution_count": null,
   "id": "dc0bf8c0",
   "metadata": {},
   "outputs": [],
   "source": [
    "#Reading CSV file for experiment 1a with seed 42 and ms statespace\n",
    "cols = ['n', 'Rewards', 'Distance', 'Agent']\n",
    "var_data29 = pd.read_csv(filepath_or_buffer='visualizations/visualization29.csv', header=None)\n",
    "var_data29.columns = cols\n",
    "var_data29"
   ]
  },
  {
   "cell_type": "code",
   "execution_count": null,
   "id": "50535678",
   "metadata": {},
   "outputs": [],
   "source": [
    "# value of n after terminal states reached for experiment 1a with seed 42 and ms statespace\n",
    "terminalStates_data29 = pd.read_csv(filepath_or_buffer='visualizations/terminal_states27.csv')\n",
    "terminalStates_data29"
   ]
  },
  {
   "cell_type": "code",
   "execution_count": null,
   "id": "23a10eba",
   "metadata": {},
   "outputs": [],
   "source": [
    "#Reading CSV file for experiment 1b with seed 1 and ms statespace\n",
    "cols = ['n', 'Rewards', 'Distance', 'Agent']\n",
    "var_data30 = pd.read_csv(filepath_or_buffer='visualizations/visualization30.csv', header=None)\n",
    "var_data30.columns = cols\n",
    "var_data30"
   ]
  },
  {
   "cell_type": "code",
   "execution_count": null,
   "id": "fcbaa5a8",
   "metadata": {},
   "outputs": [],
   "source": [
    "# value of n after terminal states reached for experiment 1b with seed 1 and ms statespace\n",
    "terminalStates_data30 = pd.read_csv(filepath_or_buffer='visualizations/terminal_states30.csv')\n",
    "terminalStates_data30"
   ]
  },
  {
   "cell_type": "code",
   "execution_count": null,
   "id": "0d1edd47",
   "metadata": {},
   "outputs": [],
   "source": [
    "#Reading CSV file for experiment 1b with seed 42 and ms statespace\n",
    "cols = ['n', 'Rewards', 'Distance', 'Agent']\n",
    "var_data31 = pd.read_csv(filepath_or_buffer='visualizations/visualization31.csv', header=None)\n",
    "var_data31.columns = cols\n",
    "var_data31"
   ]
  },
  {
   "cell_type": "code",
   "execution_count": null,
   "id": "b3636a97",
   "metadata": {},
   "outputs": [],
   "source": [
    "# value of n after terminal states reached for experiment 1b with seed 42 and ms statespace\n",
    "terminalStates_data31 = pd.read_csv(filepath_or_buffer='visualizations/terminal_states31.csv')\n",
    "terminalStates_data31"
   ]
  },
  {
   "cell_type": "code",
   "execution_count": null,
   "id": "3b2f1abf",
   "metadata": {},
   "outputs": [],
   "source": [
    "#Reading CSV file for experiment 1c with seed 1 and ms statespace\n",
    "cols = ['n', 'Rewards', 'Distance', 'Agent']\n",
    "var_data32 = pd.read_csv(filepath_or_buffer='visualizations/visualization32.csv', header=None)\n",
    "var_data32.columns = cols\n",
    "var_data32"
   ]
  },
  {
   "cell_type": "code",
   "execution_count": null,
   "id": "4b71a83f",
   "metadata": {},
   "outputs": [],
   "source": [
    "# value of n after terminal states reached for experiment 1c with seed 1 and ms statespace\n",
    "terminalStates_data32 = pd.read_csv(filepath_or_buffer='visualizations/terminal_states32.csv')\n",
    "terminalStates_data32"
   ]
  },
  {
   "cell_type": "code",
   "execution_count": null,
   "id": "4be4e8c3",
   "metadata": {},
   "outputs": [],
   "source": [
    "#Reading CSV file for experiment 1c with seed 42 and ms statespace\n",
    "cols = ['n', 'Rewards', 'Distance', 'Agent']\n",
    "var_data33 = pd.read_csv(filepath_or_buffer='visualizations/visualization33.csv', header=None)\n",
    "var_data33.columns = cols\n",
    "var_data33"
   ]
  },
  {
   "cell_type": "code",
   "execution_count": null,
   "id": "91d5b168",
   "metadata": {},
   "outputs": [],
   "source": [
    "# value of n after terminal states reached for experiment 1c with seed 42 and ms statespace\n",
    "terminalStates_data33 = pd.read_csv(filepath_or_buffer='visualizations/terminal_states31.csv')\n",
    "terminalStates_data33"
   ]
  },
  {
   "cell_type": "code",
   "execution_count": null,
   "id": "8dc12364",
   "metadata": {},
   "outputs": [],
   "source": [
    "#Reading CSV file for experiment 2 with seed 1 and ms statespace\n",
    "cols = ['n', 'Rewards', 'Distance', 'Agent']\n",
    "var_data34 = pd.read_csv(filepath_or_buffer='visualizations/visualization34.csv', header=None)\n",
    "var_data34.columns = cols\n",
    "var_data34"
   ]
  },
  {
   "cell_type": "code",
   "execution_count": null,
   "id": "d185d049",
   "metadata": {},
   "outputs": [],
   "source": [
    "# value of n after terminal states reached for experiment 2 with seed 1 and ms statespace\n",
    "terminalStates_data34 = pd.read_csv(filepath_or_buffer='visualizations/terminal_states34.csv')\n",
    "terminalStates_data34"
   ]
  },
  {
   "cell_type": "code",
   "execution_count": null,
   "id": "f4cfd858",
   "metadata": {},
   "outputs": [],
   "source": [
    "#Reading CSV file for experiment 2 with seed 42 and ms statespace\n",
    "cols = ['n', 'Rewards', 'Distance', 'Agent']\n",
    "var_data35 = pd.read_csv(filepath_or_buffer='visualizations/visualization35.csv', header=None)\n",
    "var_data35.columns = cols\n",
    "var_data35"
   ]
  },
  {
   "cell_type": "code",
   "execution_count": null,
   "id": "5e942857",
   "metadata": {},
   "outputs": [],
   "source": [
    "# value of n after terminal states reached for experiment 2 with seed 42 and ms statespace\n",
    "terminalStates_data35 = pd.read_csv(filepath_or_buffer='visualizations/terminal_states35.csv')\n",
    "terminalStates_data35"
   ]
  },
  {
   "cell_type": "code",
   "execution_count": null,
   "id": "0a934cba",
   "metadata": {},
   "outputs": [],
   "source": [
    "#Reading CSV file for experiment 3a with seed 1 and ms statespace\n",
    "cols = ['n', 'Rewards', 'Distance', 'Agent']\n",
    "var_data36 = pd.read_csv(filepath_or_buffer='visualizations/visualization36.csv', header=None)\n",
    "var_data36.columns = cols\n",
    "var_data36"
   ]
  },
  {
   "cell_type": "code",
   "execution_count": null,
   "id": "a5bc1151",
   "metadata": {},
   "outputs": [],
   "source": [
    "# value of n after terminal states reached for experiment 3a with seed 1 and ms statespace\n",
    "terminalStates_data36 = pd.read_csv(filepath_or_buffer='visualizations/terminal_states36.csv')\n",
    "terminalStates_data36"
   ]
  },
  {
   "cell_type": "code",
   "execution_count": null,
   "id": "98a891fe",
   "metadata": {},
   "outputs": [],
   "source": [
    "#Reading CSV file for experiment 3a with seed 42 and ms statespace\n",
    "cols = ['n', 'Rewards', 'Distance', 'Agent']\n",
    "var_data37 = pd.read_csv(filepath_or_buffer='visualizations/visualization37.csv', header=None)\n",
    "var_data37.columns = cols\n",
    "var_data37"
   ]
  },
  {
   "cell_type": "code",
   "execution_count": null,
   "id": "d2ac66aa",
   "metadata": {},
   "outputs": [],
   "source": [
    "# value of n after terminal states reached for experiment 3a with seed 42 and ms statespace\n",
    "terminalStates_data37 = pd.read_csv(filepath_or_buffer='visualizations/terminal_states35.csv')\n",
    "terminalStates_data37"
   ]
  },
  {
   "cell_type": "code",
   "execution_count": null,
   "id": "c328f26d",
   "metadata": {},
   "outputs": [],
   "source": [
    "#Reading CSV file for experiment 3b with seed 1 and ms statespace\n",
    "cols = ['n', 'Rewards', 'Distance', 'Agent']\n",
    "var_data38 = pd.read_csv(filepath_or_buffer='visualizations/visualization38.csv', header=None)\n",
    "var_data38.columns = cols\n",
    "var_data38"
   ]
  },
  {
   "cell_type": "code",
   "execution_count": null,
   "id": "9264f380",
   "metadata": {},
   "outputs": [],
   "source": [
    "# value of n after terminal states reached for experiment 3b with seed 1 and ms statespace\n",
    "terminalStates_data38 = pd.read_csv(filepath_or_buffer='visualizations/terminal_states38.csv')\n",
    "terminalStates_data38"
   ]
  },
  {
   "cell_type": "code",
   "execution_count": null,
   "id": "41020980",
   "metadata": {},
   "outputs": [],
   "source": [
    "#Reading CSV file for experiment 3b with seed 42 and ms statespace\n",
    "cols = ['n', 'Rewards', 'Distance', 'Agent']\n",
    "var_data39 = pd.read_csv(filepath_or_buffer='visualizations/visualization39.csv', header=None)\n",
    "var_data39.columns = cols\n",
    "var_data39"
   ]
  },
  {
   "cell_type": "code",
   "execution_count": null,
   "id": "62ec2b32",
   "metadata": {},
   "outputs": [],
   "source": [
    "# value of n after terminal states reached for experiment 3b with seed 42 and ms statespace\n",
    "terminalStates_data39 = pd.read_csv(filepath_or_buffer='visualizations/terminal_states39.csv')\n",
    "terminalStates_data39"
   ]
  },
  {
   "cell_type": "code",
   "execution_count": null,
   "id": "e14cbf17",
   "metadata": {},
   "outputs": [],
   "source": [
    "#Reading CSV file for experiment 4 with seed 1 and ms statespace\n",
    "cols = ['n', 'Rewards', 'Distance', 'Agent']\n",
    "var_data40 = pd.read_csv(filepath_or_buffer='visualizations/visualization40.csv', header=None)\n",
    "var_data40.columns = cols\n",
    "var_data40"
   ]
  },
  {
   "cell_type": "code",
   "execution_count": null,
   "id": "c5a33f97",
   "metadata": {},
   "outputs": [],
   "source": [
    "# value of n after terminal states reached for experiment 4 with seed 1 and ms statespace\n",
    "terminalStates_data40 = pd.read_csv(filepath_or_buffer='visualizations/terminal_states40.csv')\n",
    "terminalStates_data40"
   ]
  },
  {
   "cell_type": "code",
   "execution_count": null,
   "id": "f7778a51",
   "metadata": {},
   "outputs": [],
   "source": [
    "#Reading CSV file for experiment 4 with seed 42 and ms statespace\n",
    "cols = ['n', 'Rewards', 'Distance', 'Agent']\n",
    "var_data41 = pd.read_csv(filepath_or_buffer='visualizations/visualization41.csv', header=None)\n",
    "var_data41.columns = cols\n",
    "var_data41"
   ]
  },
  {
   "cell_type": "code",
   "execution_count": null,
   "id": "38e2ed14",
   "metadata": {},
   "outputs": [],
   "source": [
    "# value of n after terminal states reached for experiment 4 with seed 42 and ms statespace\n",
    "terminalStates_data41 = pd.read_csv(filepath_or_buffer='visualizations/terminal_states41.csv')\n",
    "terminalStates_data41"
   ]
  },
  {
   "cell_type": "code",
   "execution_count": null,
   "id": "9f318a94",
   "metadata": {},
   "outputs": [],
   "source": [
    "#Reading CSV file for experiment 1a with seed 1 and cs2 statespace\n",
    "cols = ['n', 'Rewards', 'Distance', 'Agent']\n",
    "var_data42 = pd.read_csv(filepath_or_buffer='visualizations/visualization42.csv', header=None)\n",
    "var_data42.columns = cols\n",
    "var_data42"
   ]
  },
  {
   "cell_type": "code",
   "execution_count": null,
   "id": "bf2d34aa",
   "metadata": {},
   "outputs": [],
   "source": [
    "# value of n after terminal states reached for experiment 1a with seed 1 and cs2 statespace\n",
    "terminalStates_data42 = pd.read_csv(filepath_or_buffer='visualizations/terminal_states42.csv')\n",
    "terminalStates_data42"
   ]
  },
  {
   "cell_type": "code",
   "execution_count": null,
   "id": "c2478bf4",
   "metadata": {},
   "outputs": [],
   "source": [
    "#Reading CSV file for experiment 1a with seed 42 and cs2 statespace\n",
    "cols = ['n', 'Rewards', 'Distance', 'Agent']\n",
    "var_data43 = pd.read_csv(filepath_or_buffer='visualizations/visualization43.csv', header=None)\n",
    "var_data43.columns = cols\n",
    "var_data43"
   ]
  },
  {
   "cell_type": "code",
   "execution_count": null,
   "id": "2efb7561",
   "metadata": {},
   "outputs": [],
   "source": [
    "# value of n after terminal states reached for experiment 1a with seed 42 and cs2 statespace\n",
    "terminalStates_data43 = pd.read_csv(filepath_or_buffer='visualizations/terminal_states43.csv')\n",
    "terminalStates_data43"
   ]
  },
  {
   "cell_type": "code",
   "execution_count": null,
   "id": "4df22e3b",
   "metadata": {},
   "outputs": [],
   "source": [
    "#Reading CSV file for experiment 1b with seed 1 and cs2 statespace\n",
    "cols = ['n', 'Rewards', 'Distance', 'Agent']\n",
    "var_data44 = pd.read_csv(filepath_or_buffer='visualizations/visualization44.csv', header=None)\n",
    "var_data44.columns = cols\n",
    "var_data44"
   ]
  },
  {
   "cell_type": "code",
   "execution_count": null,
   "id": "6f1ece92",
   "metadata": {},
   "outputs": [],
   "source": [
    "# value of n after terminal states reached for experiment 1b with seed 1 and cs2 statespace\n",
    "terminalStates_data44 = pd.read_csv(filepath_or_buffer='visualizations/terminal_states44.csv')\n",
    "terminalStates_data44"
   ]
  },
  {
   "cell_type": "code",
   "execution_count": null,
   "id": "3b423f10",
   "metadata": {},
   "outputs": [],
   "source": [
    "#Reading CSV file for experiment 1b with seed 42 and cs2 statespace\n",
    "cols = ['n', 'Rewards', 'Distance', 'Agent']\n",
    "var_data45 = pd.read_csv(filepath_or_buffer='visualizations/visualization45.csv', header=None)\n",
    "var_data45.columns = cols\n",
    "var_data45"
   ]
  },
  {
   "cell_type": "code",
   "execution_count": null,
   "id": "a2549ba2",
   "metadata": {},
   "outputs": [],
   "source": [
    "# value of n after terminal states reached for experiment 1b with seed 42 and cs2 statespace\n",
    "terminalStates_data45 = pd.read_csv(filepath_or_buffer='visualizations/terminal_states45.csv')\n",
    "terminalStates_data45"
   ]
  },
  {
   "cell_type": "code",
   "execution_count": null,
   "id": "d7daf3a3",
   "metadata": {},
   "outputs": [],
   "source": [
    "#Reading CSV file for experiment 1c with seed 1 and cs2 statespace\n",
    "cols = ['n', 'Rewards', 'Distance', 'Agent']\n",
    "var_data46 = pd.read_csv(filepath_or_buffer='visualizations/visualization46.csv', header=None)\n",
    "var_data46.columns = cols\n",
    "var_data46"
   ]
  },
  {
   "cell_type": "code",
   "execution_count": null,
   "id": "a0a91b50",
   "metadata": {},
   "outputs": [],
   "source": [
    "# value of n after terminal states reached for experiment 1c with seed 1 and cs2 statespace\n",
    "terminalStates_data46 = pd.read_csv(filepath_or_buffer='visualizations/terminal_states46.csv')\n",
    "terminalStates_data46"
   ]
  },
  {
   "cell_type": "code",
   "execution_count": null,
   "id": "83ff19b8",
   "metadata": {},
   "outputs": [],
   "source": [
    "#Reading CSV file for experiment 1c with seed 42 and cs2 statespace\n",
    "cols = ['n', 'Rewards', 'Distance', 'Agent']\n",
    "var_data47 = pd.read_csv(filepath_or_buffer='visualizations/visualization46.csv', header=None)\n",
    "var_data47.columns = cols\n",
    "var_data47"
   ]
  },
  {
   "cell_type": "code",
   "execution_count": null,
   "id": "c442de3f",
   "metadata": {},
   "outputs": [],
   "source": [
    "# value of n after terminal states reached for experiment 1c with seed 42 and cs2 statespace\n",
    "terminalStates_data47 = pd.read_csv(filepath_or_buffer='visualizations/terminal_states47.csv')\n",
    "terminalStates_data47"
   ]
  },
  {
   "cell_type": "code",
   "execution_count": null,
   "id": "9f18a96d",
   "metadata": {},
   "outputs": [],
   "source": [
    "#Reading CSV file for experiment 2 with seed 1 and cs2 statespace\n",
    "cols = ['n', 'Rewards', 'Distance', 'Agent']\n",
    "var_data48 = pd.read_csv(filepath_or_buffer='visualizations/visualization48.csv', header=None)\n",
    "var_data48.columns = cols\n",
    "var_data48"
   ]
  },
  {
   "cell_type": "code",
   "execution_count": null,
   "id": "4c9d1b67",
   "metadata": {},
   "outputs": [],
   "source": [
    "# value of n after terminal states reached for experiment 2 with seed 1 and cs2 statespace\n",
    "terminalStates_data48 = pd.read_csv(filepath_or_buffer='visualizations/terminal_states48.csv')\n",
    "terminalStates_data48"
   ]
  },
  {
   "cell_type": "code",
   "execution_count": null,
   "id": "e3c6d71e",
   "metadata": {},
   "outputs": [],
   "source": [
    "#Reading CSV file for experiment 2 with seed 42 and cs2 statespace\n",
    "cols = ['n', 'Rewards', 'Distance', 'Agent']\n",
    "var_data49 = pd.read_csv(filepath_or_buffer='visualizations/visualization49.csv', header=None)\n",
    "var_data49.columns = cols\n",
    "var_data49"
   ]
  },
  {
   "cell_type": "code",
   "execution_count": null,
   "id": "73889feb",
   "metadata": {},
   "outputs": [],
   "source": [
    "# value of n after terminal states reached for experiment 2 with seed 42 and cs2 statespace\n",
    "terminalStates_data49 = pd.read_csv(filepath_or_buffer='visualizations/terminal_states49.csv')\n",
    "terminalStates_data49"
   ]
  },
  {
   "cell_type": "code",
   "execution_count": null,
   "id": "573fec0f",
   "metadata": {},
   "outputs": [],
   "source": [
    "#Reading CSV file for experiment 3a with seed 1 and cs2 statespace\n",
    "cols = ['n', 'Rewards', 'Distance', 'Agent']\n",
    "var_data50 = pd.read_csv(filepath_or_buffer='visualizations/visualization50.csv', header=None)\n",
    "var_data50.columns = cols\n",
    "var_data50"
   ]
  },
  {
   "cell_type": "code",
   "execution_count": null,
   "id": "1af03220",
   "metadata": {},
   "outputs": [],
   "source": [
    "# value of n after terminal states reached for experiment 3a with seed 1 and cs2 statespace\n",
    "terminalStates_data50 = pd.read_csv(filepath_or_buffer='visualizations/terminal_states50.csv')\n",
    "terminalStates_data50"
   ]
  },
  {
   "cell_type": "code",
   "execution_count": null,
   "id": "b4e0840b",
   "metadata": {},
   "outputs": [],
   "source": [
    "#Reading CSV file for experiment 3a with seed 42 and cs2 statespace\n",
    "cols = ['n', 'Rewards', 'Distance', 'Agent']\n",
    "var_data51 = pd.read_csv(filepath_or_buffer='visualizations/visualization51.csv', header=None)\n",
    "var_data51.columns = cols\n",
    "var_data51"
   ]
  },
  {
   "cell_type": "code",
   "execution_count": null,
   "id": "2cf5261b",
   "metadata": {},
   "outputs": [],
   "source": [
    "# value of n after terminal states reached for experiment 3a with seed 42 and cs2 statespace\n",
    "terminalStates_data51 = pd.read_csv(filepath_or_buffer='visualizations/terminal_states51.csv')\n",
    "terminalStates_data51"
   ]
  },
  {
   "cell_type": "code",
   "execution_count": null,
   "id": "812ea134",
   "metadata": {},
   "outputs": [],
   "source": [
    "#Reading CSV file for experiment 3b with seed 1 and cs2 statespace\n",
    "cols = ['n', 'Rewards', 'Distance', 'Agent']\n",
    "var_data52 = pd.read_csv(filepath_or_buffer='visualizations/visualization52.csv', header=None)\n",
    "var_data52.columns = cols\n",
    "var_data52"
   ]
  },
  {
   "cell_type": "code",
   "execution_count": null,
   "id": "5d29f38d",
   "metadata": {},
   "outputs": [],
   "source": [
    "# value of n after terminal states reached for experiment 3b with seed 1 and cs2 statespace\n",
    "terminalStates_data52 = pd.read_csv(filepath_or_buffer='visualizations/terminal_states52.csv')\n",
    "terminalStates_data52"
   ]
  },
  {
   "cell_type": "code",
   "execution_count": null,
   "id": "7cd5adca",
   "metadata": {},
   "outputs": [],
   "source": [
    "#Reading CSV file for experiment 3b with seed 42 and cs2 statespace\n",
    "cols = ['n', 'Rewards', 'Distance', 'Agent']\n",
    "var_data53 = pd.read_csv(filepath_or_buffer='visualizations/visualization53.csv', header=None)\n",
    "var_data53.columns = cols\n",
    "var_data53"
   ]
  },
  {
   "cell_type": "code",
   "execution_count": null,
   "id": "bdf902f0",
   "metadata": {},
   "outputs": [],
   "source": [
    "# value of n after terminal states reached for experiment 3b with seed 42 and cs2 statespace\n",
    "terminalStates_data53 = pd.read_csv(filepath_or_buffer='visualizations/terminal_states53.csv')\n",
    "terminalStates_data53"
   ]
  },
  {
   "cell_type": "code",
   "execution_count": null,
   "id": "875fd47f",
   "metadata": {},
   "outputs": [],
   "source": [
    "#Reading CSV file for experiment 4 with seed 1 and cs2 statespace\n",
    "cols = ['n', 'Rewards', 'Distance', 'Agent']\n",
    "var_data54 = pd.read_csv(filepath_or_buffer='visualizations/visualization54.csv', header=None)\n",
    "var_data54.columns = cols\n",
    "var_data54"
   ]
  },
  {
   "cell_type": "code",
   "execution_count": null,
   "id": "4b27f6cf",
   "metadata": {},
   "outputs": [],
   "source": [
    "# value of n after terminal states reached for experiment 4 with seed 1 and cs2 statespace\n",
    "terminalStates_data54 = pd.read_csv(filepath_or_buffer='visualizations/terminal_states54.csv')\n",
    "terminalStates_data54"
   ]
  },
  {
   "cell_type": "code",
   "execution_count": null,
   "id": "6a3ac8d4",
   "metadata": {},
   "outputs": [],
   "source": [
    "#Reading CSV file for experiment 4 with seed 42 and cs2 statespace\n",
    "cols = ['n', 'Rewards', 'Distance', 'Agent']\n",
    "var_data55 = pd.read_csv(filepath_or_buffer='visualizations/visualization55.csv', header=None)\n",
    "var_data55.columns = cols\n",
    "var_data55"
   ]
  },
  {
   "cell_type": "code",
   "execution_count": null,
   "id": "428ec826",
   "metadata": {},
   "outputs": [],
   "source": [
    "# value of n after terminal states reached for experiment 4 with seed 42 and cs2 statespace\n",
    "terminalStates_data55 = pd.read_csv(filepath_or_buffer='visualizations/terminal_states55.csv')\n",
    "terminalStates_data55"
   ]
  },
  {
   "cell_type": "markdown",
   "id": "9b76cc23",
   "metadata": {},
   "source": [
    "<h3> Data Preprocessing of Visualization files</h3>"
   ]
  },
  {
   "cell_type": "code",
   "execution_count": null,
   "id": "e8e156e0",
   "metadata": {},
   "outputs": [],
   "source": [
    "var_data['Rewards'] = var_data['Rewards'].cumsum()\n",
    "var_data1['Rewards'] = var_data1['Rewards'].cumsum()\n",
    "var_data2['Rewards'] = var_data2['Rewards'].cumsum()\n",
    "var_data3['Rewards'] = var_data3['Rewards'].cumsum()\n",
    "var_data4['Rewards'] = var_data4['Rewards'].cumsum()\n",
    "var_data5['Rewards'] = var_data5['Rewards'].cumsum()\n",
    "var_data6['Rewards'] = var_data6['Rewards'].cumsum()\n",
    "var_data7['Rewards'] = var_data7['Rewards'].cumsum()\n",
    "var_data8['Rewards'] = var_data8['Rewards'].cumsum()\n",
    "var_data9['Rewards'] = var_data9['Rewards'].cumsum()\n",
    "var_data10['Rewards'] = var_data10['Rewards'].cumsum()\n",
    "var_data11['Rewards'] = var_data11['Rewards'].cumsum()\n",
    "var_data12['Rewards'] = var_data12['Rewards'].cumsum()\n",
    "var_data13['Rewards'] = var_data13['Rewards'].cumsum()\n",
    "var_data14['Rewards'] = var_data14['Rewards'].cumsum()\n",
    "var_data15['Rewards'] = var_data15['Rewards'].cumsum()\n",
    "var_data16['Rewards'] = var_data16['Rewards'].cumsum()\n",
    "var_data17['Rewards'] = var_data17['Rewards'].cumsum()\n",
    "var_data18['Rewards'] = var_data18['Rewards'].cumsum()\n",
    "var_data19['Rewards'] = var_data19['Rewards'].cumsum()\n",
    "var_data20['Rewards'] = var_data20['Rewards'].cumsum()\n",
    "var_data21['Rewards'] = var_data21['Rewards'].cumsum()\n",
    "var_data22['Rewards'] = var_data22['Rewards'].cumsum()\n",
    "var_data23['Rewards'] = var_data23['Rewards'].cumsum()\n",
    "var_data24['Rewards'] = var_data24['Rewards'].cumsum()\n",
    "var_data25['Rewards'] = var_data25['Rewards'].cumsum()\n",
    "var_data26['Rewards'] = var_data26['Rewards'].cumsum()\n",
    "var_data27['Rewards'] = var_data27['Rewards'].cumsum()\n",
    "var_data28['Rewards'] = var_data28['Rewards'].cumsum()\n",
    "var_data29['Rewards'] = var_data29['Rewards'].cumsum()\n",
    "var_data30['Rewards'] = var_data30['Rewards'].cumsum()\n",
    "var_data31['Rewards'] = var_data31['Rewards'].cumsum()\n",
    "var_data32['Rewards'] = var_data32['Rewards'].cumsum()\n",
    "var_data33['Rewards'] = var_data33['Rewards'].cumsum()\n",
    "var_data34['Rewards'] = var_data34['Rewards'].cumsum()\n",
    "var_data35['Rewards'] = var_data35['Rewards'].cumsum()\n",
    "var_data36['Rewards'] = var_data36['Rewards'].cumsum()\n",
    "var_data37['Rewards'] = var_data37['Rewards'].cumsum()\n",
    "var_data38['Rewards'] = var_data38['Rewards'].cumsum()\n",
    "var_data39['Rewards'] = var_data39['Rewards'].cumsum()\n",
    "var_data40['Rewards'] = var_data40['Rewards'].cumsum()\n",
    "var_data41['Rewards'] = var_data41['Rewards'].cumsum()\n",
    "var_data42['Rewards'] = var_data42['Rewards'].cumsum()\n",
    "var_data43['Rewards'] = var_data43['Rewards'].cumsum()\n",
    "var_data44['Rewards'] = var_data44['Rewards'].cumsum()\n",
    "var_data45['Rewards'] = var_data45['Rewards'].cumsum()\n",
    "var_data46['Rewards'] = var_data46['Rewards'].cumsum()\n",
    "var_data47['Rewards'] = var_data47['Rewards'].cumsum()\n",
    "var_data48['Rewards'] = var_data48['Rewards'].cumsum()\n",
    "var_data49['Rewards'] = var_data49['Rewards'].cumsum()\n",
    "var_data50['Rewards'] = var_data50['Rewards'].cumsum()\n",
    "var_data51['Rewards'] = var_data51['Rewards'].cumsum()\n",
    "var_data52['Rewards'] = var_data52['Rewards'].cumsum()\n",
    "var_data53['Rewards'] = var_data53['Rewards'].cumsum()\n",
    "var_data54['Rewards'] = var_data54['Rewards'].cumsum()\n",
    "var_data55['Rewards'] = var_data55['Rewards'].cumsum()\n",
    "\n"
   ]
  },
  {
   "cell_type": "markdown",
   "id": "069feb2b",
   "metadata": {},
   "source": [
    "<h3>Visualization of performance variables for all experiments using SS (Somewhat Simple) StateSpace</h3>"
   ]
  },
  {
   "cell_type": "code",
   "execution_count": null,
   "id": "d90aca9b",
   "metadata": {},
   "outputs": [],
   "source": [
    "# EXPERIMENT 1a with seed 1\n",
    "fig = px.histogram(var_data, x='Rewards', color='Agent', title='Number of Steps vs Rewards \\n(Experiment 1a with seed 1 and SS space)')\n",
    "fig.update_layout(xaxis_title='Rewards for each agent', yaxis_title='Number of steps', width=650, height=400)\n",
    "fig.show()"
   ]
  },
  {
   "cell_type": "code",
   "execution_count": null,
   "id": "1e299914",
   "metadata": {},
   "outputs": [],
   "source": [
    "# EXPERIMENT 1a with seed 1\n",
    "agent_colors = {'F': '#FF69B4', 'M': 'green'}\n",
    "fig = px.histogram(var_data, x='Distance', color='Agent', color_discrete_map=agent_colors, title='Number of Steps vs Distance (Experiment 1a with seed 1 and SS space)')\n",
    "fig.update_layout(xaxis_title='Manhattan Distance between agents', yaxis_title='Number of steps', width=650, height=400)\n",
    "fig.show()"
   ]
  },
  {
   "cell_type": "code",
   "execution_count": null,
   "id": "09c5ea48",
   "metadata": {},
   "outputs": [],
   "source": [
    "# EXPERIMENT 1a with seed 1\n",
    "\n",
    "x_values = terminalStates_data.index + 1\n",
    "fig = px.bar(terminalStates_data, x=x_values, y='Steps', color=x_values, title='Number of Steps for each terminal state (Experiment 1a with seed 1 and SS space)')\n",
    "fig.update_layout(xaxis_title='Terminal States', yaxis_title='Number of steps', width=550, height=400)\n",
    "fig.show()"
   ]
  },
  {
   "cell_type": "code",
   "execution_count": null,
   "id": "83aed3d8",
   "metadata": {},
   "outputs": [],
   "source": []
  },
  {
   "cell_type": "code",
   "execution_count": null,
   "id": "537bf39c",
   "metadata": {},
   "outputs": [],
   "source": []
  }
 ],
 "metadata": {
  "kernelspec": {
   "display_name": "Python 3 (ipykernel)",
   "language": "python",
   "name": "python3"
  },
  "language_info": {
   "codemirror_mode": {
    "name": "ipython",
    "version": 3
   },
   "file_extension": ".py",
   "mimetype": "text/x-python",
   "name": "python",
   "nbconvert_exporter": "python",
   "pygments_lexer": "ipython3",
   "version": "3.10.9"
  }
 },
 "nbformat": 4,
 "nbformat_minor": 5
}
